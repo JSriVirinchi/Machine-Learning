{
 "cells": [
  {
   "cell_type": "code",
   "execution_count": 63,
   "metadata": {},
   "outputs": [],
   "source": [
    "import numpy as np\n",
    "import pandas as pd\n",
    "import matplotlib.pyplot as plt"
   ]
  },
  {
   "cell_type": "code",
   "execution_count": 64,
   "metadata": {},
   "outputs": [],
   "source": [
    "dataset = pd.read_csv('assignment2_data.csv', header= None)\n",
    "X = dataset.iloc[:,0].values\n",
    "y = dataset.iloc[:,1].values\n",
    "X_train = X[:80]\n",
    "X_test = X[80:]\n",
    "y_train = y[:80]\n",
    "y_test = y[80:]"
   ]
  },
  {
   "cell_type": "markdown",
   "metadata": {},
   "source": [
    "Cost function is the average of all m loss functions, where m is the number of data points. \n",
    "Here the loss function for linear regression according to the data is, L = (1/2m)*(a-y)^2, where a is the predicted outcome and y is the original outcome for that instance.\n",
    "\n",
    "linear model: y = wx + b\n",
    "\n",
    "Forward prop:\n",
    "w,b -> y=wx+b -> Loss: L = (1/2m)*(a-y)^2\n",
    "\n",
    "Backward prop:\n",
    "Using chain rule\n",
    "\n",
    "dL/dw = (dL/dy)(dy/dw) = ((a-y)/n)(x) = x*(a-y)/m\n",
    "\n",
    "dL/db = (dL/dy)(dy/db) = ((a-y)/n)(1) = (a-y)/m"
   ]
  },
  {
   "cell_type": "code",
   "execution_count": 90,
   "metadata": {},
   "outputs": [],
   "source": [
    "#initialisation\n",
    "w=0\n",
    "b=0\n",
    "alpha = 0.0005"
   ]
  },
  {
   "cell_type": "code",
   "execution_count": 91,
   "metadata": {},
   "outputs": [],
   "source": [
    "for iterations in range(0,100):\n",
    "    dw=0\n",
    "    db=0\n",
    "    for i in range(0,80):\n",
    "        a = w * X_train[i]\n",
    "        dw += X_train[i] * (a-y_train[i])/100\n",
    "        db += (a-y_train[i])/100\n",
    "\n",
    "    w = w - (alpha)*dw\n",
    "    b = b - (alpha)*db"
   ]
  },
  {
   "cell_type": "code",
   "execution_count": 92,
   "metadata": {},
   "outputs": [
    {
     "name": "stdout",
     "output_type": "stream",
     "text": [
      "1.4605283154357551\n",
      "0.03558309805498697\n"
     ]
    }
   ],
   "source": [
    "#coefficients\n",
    "print(w)\n",
    "print(b)"
   ]
  },
  {
   "cell_type": "code",
   "execution_count": 93,
   "metadata": {},
   "outputs": [
    {
     "data": {
      "image/png": "[encoded data removed]",
      "text/plain": [
       "<Figure size 432x288 with 1 Axes>"
      ]
     },
     "metadata": {
      "needs_background": "light"
     },
     "output_type": "display_data"
    }
   ],
   "source": [
    "# linear regression model line\n",
    "x_model = np.linspace(20,80,100)\n",
    "y_model = w*x_model + b\n",
    "plt.plot(x_model,y_model)\n",
    "\n",
    "# train data\n",
    "plt.scatter(X_train,y_train)\n",
    "plt.scatter(X_test,y_test, color='red')\n",
    "plt.show()"
   ]
  },
  {
   "cell_type": "code",
   "execution_count": 94,
   "metadata": {},
   "outputs": [
    {
     "name": "stdout",
     "output_type": "stream",
     "text": [
      "92.96378724338825\n"
     ]
    }
   ],
   "source": [
    "y_pred = w*X_test + b\n",
    "error = np.mean(((y_pred - y_test)/y_test)*100)\n",
    "accuracy = 100 - abs(error)\n",
    "print(accuracy)"
   ]
  },
  {
   "cell_type": "markdown",
   "metadata": {},
   "source": [
    "Here we used alpha value of 0.0005. Having experimenting with various values, this value seems to be in approximately correct range. Anything significantly larger or smaller values of alpha does not produce good accuracies"
   ]
  },
  {
   "cell_type": "code",
   "execution_count": null,
   "metadata": {},
   "outputs": [],
   "source": []
  }
 ],
 "metadata": {
  "kernelspec": {
   "display_name": "Python 3",
   "language": "python",
   "name": "python3"
  },
  "language_info": {
   "codemirror_mode": {
    "name": "ipython",
    "version": 3
   },
   "file_extension": ".py",
   "mimetype": "text/x-python",
   "name": "python",
   "nbconvert_exporter": "python",
   "pygments_lexer": "ipython3",
   "version": "3.7.6"
  }
 },
 "nbformat": 4,
 "nbformat_minor": 4
}
