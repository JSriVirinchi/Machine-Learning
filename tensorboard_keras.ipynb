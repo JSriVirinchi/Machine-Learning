{
  "nbformat": 4,
  "nbformat_minor": 0,
  "metadata": {
    "colab": {
      "name": "Assignment 8.ipynb",
      "provenance": []
    },
    "kernelspec": {
      "name": "python3",
      "display_name": "Python 3"
    },
    "language_info": {
      "name": "python"
    },
    "accelerator": "GPU"
  },
  "cells": [
    {
      "cell_type": "markdown",
      "metadata": {
        "id": "6EpA7A-jPwWa"
      },
      "source": [
        "#Import libraries and data"
      ]
    },
    {
      "cell_type": "code",
      "metadata": {
        "colab": {
          "base_uri": "https://localhost:8080/"
        },
        "id": "hwssrOXKPFI1",
        "outputId": "676d3c79-f09e-4a98-cf9d-0e922fd80de4"
      },
      "source": [
        "pip install -q -U keras_tuner"
      ],
      "execution_count": 1,
      "outputs": [
        {
          "output_type": "stream",
          "name": "stdout",
          "text": [
            "\u001b[?25l\r\u001b[K     |███▍                            | 10 kB 16.0 MB/s eta 0:00:01\r\u001b[K     |██████▊                         | 20 kB 15.3 MB/s eta 0:00:01\r\u001b[K     |██████████                      | 30 kB 10.2 MB/s eta 0:00:01\r\u001b[K     |█████████████▍                  | 40 kB 8.8 MB/s eta 0:00:01\r\u001b[K     |████████████████▊               | 51 kB 5.7 MB/s eta 0:00:01\r\u001b[K     |████████████████████            | 61 kB 6.1 MB/s eta 0:00:01\r\u001b[K     |███████████████████████▍        | 71 kB 5.8 MB/s eta 0:00:01\r\u001b[K     |██████████████████████████▊     | 81 kB 6.5 MB/s eta 0:00:01\r\u001b[K     |██████████████████████████████▏ | 92 kB 6.7 MB/s eta 0:00:01\r\u001b[K     |████████████████████████████████| 97 kB 2.9 MB/s \n",
            "\u001b[?25h"
          ]
        }
      ]
    },
    {
      "cell_type": "code",
      "metadata": {
        "colab": {
          "base_uri": "https://localhost:8080/"
        },
        "id": "HdEXhd27LQxX",
        "outputId": "1168d74c-9bc8-4365-e98e-6985496cbf40"
      },
      "source": [
        "from keras.datasets import cifar10\n",
        "from keras.preprocessing.image import ImageDataGenerator\n",
        "from matplotlib import pyplot\n",
        "from keras.datasets import cifar10\n",
        "import random\n",
        "from random import randint\n",
        "import tensorflow as tf\n",
        "import numpy as np\n",
        "import cv2\n",
        "import random\n",
        "from tqdm import tqdm\n",
        "import sys\n",
        "from tensorflow.keras.utils import to_categorical\n",
        "from keras.models import Sequential\n",
        "from keras.layers import Conv2D\n",
        "from keras.layers import MaxPooling2D\n",
        "from keras.layers import Dense\n",
        "from keras.layers import Flatten\n",
        "from tensorflow.keras.optimizers import SGD\n",
        "import kerastuner as kt\n",
        "from keras.callbacks import EarlyStopping\n",
        "import keras\n",
        "from keras.layers import Convolution2D, Dense, Input, Flatten, Dropout, MaxPooling2D, BatchNormalization, GlobalAveragePooling2D, Concatenate\n",
        "from tensorflow import Tensor\n",
        "from tensorflow.keras.layers import Input, Conv2D, ReLU, BatchNormalization,Add, AveragePooling2D, Flatten, Dense\n",
        "from tensorflow.keras.models import Model\n",
        "import pandas as pd\n",
        "from tensorflow.keras.datasets import cifar10\n",
        "from tensorflow.keras.callbacks import ModelCheckpoint, TensorBoard\n",
        "import datetime\n",
        "import os\n",
        "from tensorboard.plugins.hparams import api as hp"
      ],
      "execution_count": 2,
      "outputs": [
        {
          "output_type": "stream",
          "name": "stderr",
          "text": [
            "/usr/local/lib/python3.7/dist-packages/ipykernel_launcher.py:20: DeprecationWarning: `import kerastuner` is deprecated, please use `import keras_tuner`.\n"
          ]
        }
      ]
    },
    {
      "cell_type": "code",
      "metadata": {
        "colab": {
          "base_uri": "https://localhost:8080/",
          "height": 319
        },
        "id": "nMzLT2_DOT9L",
        "outputId": "1db30eb1-53dd-4779-fa64-339502686dad"
      },
      "source": [
        "import tensorflow_datasets as tfds\n",
        "\n",
        "data = tfds.load('cifar10')\n",
        "train_ds, test_ds = data['train'], data['test']\n",
        "\n",
        "def standardize_record(record):\n",
        "  return tf.cast(record['image'], tf.float32) / 255., record['label']\n",
        "\n",
        "train_ds = train_ds.map(standardize_record).cache().batch(64).shuffle(10000)\n",
        "test_ds = test_ds.map(standardize_record).cache().batch(64)"
      ],
      "execution_count": 3,
      "outputs": [
        {
          "output_type": "stream",
          "name": "stdout",
          "text": [
            "\u001b[1mDownloading and preparing dataset cifar10/3.0.2 (download: 162.17 MiB, generated: 132.40 MiB, total: 294.58 MiB) to /root/tensorflow_datasets/cifar10/3.0.2...\u001b[0m\n"
          ]
        },
        {
          "output_type": "display_data",
          "data": {
            "application/vnd.jupyter.widget-view+json": {
              "model_id": "99f91f36e43c4cafa03b2c7e5aa82d2d",
              "version_minor": 0,
              "version_major": 2
            },
            "text/plain": [
              "Dl Completed...: 0 url [00:00, ? url/s]"
            ]
          },
          "metadata": {}
        },
        {
          "output_type": "display_data",
          "data": {
            "application/vnd.jupyter.widget-view+json": {
              "model_id": "f58d1afb657942ce996542bf651460e5",
              "version_minor": 0,
              "version_major": 2
            },
            "text/plain": [
              "Dl Size...: 0 MiB [00:00, ? MiB/s]"
            ]
          },
          "metadata": {}
        },
        {
          "output_type": "display_data",
          "data": {
            "application/vnd.jupyter.widget-view+json": {
              "model_id": "12ea40110c334f1c960b76b27c876d94",
              "version_minor": 0,
              "version_major": 2
            },
            "text/plain": [
              "Extraction completed...: 0 file [00:00, ? file/s]"
            ]
          },
          "metadata": {}
        },
        {
          "output_type": "stream",
          "name": "stdout",
          "text": [
            "\n",
            "\n",
            "\n"
          ]
        },
        {
          "output_type": "display_data",
          "data": {
            "application/vnd.jupyter.widget-view+json": {
              "model_id": "828720e56b3d466e96e16588990391b5",
              "version_minor": 0,
              "version_major": 2
            },
            "text/plain": [
              "0 examples [00:00, ? examples/s]"
            ]
          },
          "metadata": {}
        },
        {
          "output_type": "stream",
          "name": "stdout",
          "text": [
            "Shuffling and writing examples to /root/tensorflow_datasets/cifar10/3.0.2.incompleteY6QWTH/cifar10-train.tfrecord\n"
          ]
        },
        {
          "output_type": "display_data",
          "data": {
            "application/vnd.jupyter.widget-view+json": {
              "model_id": "447631cb1a2047219187b611f16767ff",
              "version_minor": 0,
              "version_major": 2
            },
            "text/plain": [
              "  0%|          | 0/50000 [00:00<?, ? examples/s]"
            ]
          },
          "metadata": {}
        },
        {
          "output_type": "display_data",
          "data": {
            "application/vnd.jupyter.widget-view+json": {
              "model_id": "bdb1bcd191a44733b6daec029fbadeb0",
              "version_minor": 0,
              "version_major": 2
            },
            "text/plain": [
              "0 examples [00:00, ? examples/s]"
            ]
          },
          "metadata": {}
        },
        {
          "output_type": "stream",
          "name": "stdout",
          "text": [
            "Shuffling and writing examples to /root/tensorflow_datasets/cifar10/3.0.2.incompleteY6QWTH/cifar10-test.tfrecord\n"
          ]
        },
        {
          "output_type": "display_data",
          "data": {
            "application/vnd.jupyter.widget-view+json": {
              "model_id": "98ee4f12b15346468792c5a735afaecf",
              "version_minor": 0,
              "version_major": 2
            },
            "text/plain": [
              "  0%|          | 0/10000 [00:00<?, ? examples/s]"
            ]
          },
          "metadata": {}
        },
        {
          "output_type": "stream",
          "name": "stdout",
          "text": [
            "\u001b[1mDataset cifar10 downloaded and prepared to /root/tensorflow_datasets/cifar10/3.0.2. Subsequent calls will reuse this data.\u001b[0m\n"
          ]
        }
      ]
    },
    {
      "cell_type": "code",
      "metadata": {
        "colab": {
          "base_uri": "https://localhost:8080/"
        },
        "id": "kJWiRzTaPS0B",
        "outputId": "cc3e2ed0-d4a4-4142-9fc9-1ebaa363ebd6"
      },
      "source": [
        "(trainX, trainY), (testX, testY) = cifar10.load_data()"
      ],
      "execution_count": 4,
      "outputs": [
        {
          "output_type": "stream",
          "name": "stdout",
          "text": [
            "Downloading data from https://www.cs.toronto.edu/~kriz/cifar-10-python.tar.gz\n",
            "170500096/170498071 [==============================] - 2s 0us/step\n",
            "170508288/170498071 [==============================] - 2s 0us/step\n"
          ]
        }
      ]
    },
    {
      "cell_type": "markdown",
      "metadata": {
        "id": "fiX-tTXiVcmD"
      },
      "source": [
        "#CNNs"
      ]
    },
    {
      "cell_type": "markdown",
      "metadata": {
        "id": "9TfpGmcXVG4C"
      },
      "source": [
        "Hyperparmeter tuning with Hyperband"
      ]
    },
    {
      "cell_type": "code",
      "metadata": {
        "id": "C8aF2CXPPr35"
      },
      "source": [
        "def build_model(hp):\n",
        "  inputs = tf.keras.Input(shape=(32, 32, 3))\n",
        "  x = inputs\n",
        "  for i in range(hp.Int('conv_blocks', 3, 5, default=3)):\n",
        "    filters = hp.Int('filters_' + str(i), 32, 256, step=32)\n",
        "    for _ in range(2):\n",
        "      x = tf.keras.layers.Convolution2D(\n",
        "        filters, kernel_size=(3, 3), padding='same')(x)\n",
        "      x = tf.keras.layers.BatchNormalization()(x)\n",
        "      x = tf.keras.layers.ReLU()(x)\n",
        "    if hp.Choice('pooling_' + str(i), ['avg', 'max']) == 'max':\n",
        "      x = tf.keras.layers.MaxPool2D()(x)\n",
        "    else:\n",
        "      x = tf.keras.layers.AvgPool2D()(x)\n",
        "  x = tf.keras.layers.GlobalAvgPool2D()(x)\n",
        "  x = tf.keras.layers.Dense(\n",
        "      hp.Int('hidden_size', 30, 100, step=10, default=50),\n",
        "      activation='relu')(x)\n",
        "  x = tf.keras.layers.Dropout(\n",
        "      hp.Float('dropout', 0, 0.5, step=0.1, default=0.5))(x)\n",
        "  outputs = tf.keras.layers.Dense(10, activation='softmax')(x)\n",
        "\n",
        "  model = tf.keras.Model(inputs, outputs)\n",
        "  model.compile(\n",
        "    optimizer=tf.keras.optimizers.Adam(\n",
        "      hp.Float('learning_rate', 1e-4, 1e-2, sampling='log')),\n",
        "    loss='sparse_categorical_crossentropy', \n",
        "    metrics=['accuracy'])\n",
        "  return model"
      ],
      "execution_count": 5,
      "outputs": []
    },
    {
      "cell_type": "code",
      "metadata": {
        "id": "4BwXgFFrU_s_"
      },
      "source": [
        "tuner = kt.Hyperband(\n",
        "    build_model,\n",
        "    objective='val_accuracy',\n",
        "    max_epochs=5,\n",
        "    hyperband_iterations=2,\n",
        "    overwrite=True)"
      ],
      "execution_count": 6,
      "outputs": []
    },
    {
      "cell_type": "code",
      "metadata": {
        "colab": {
          "base_uri": "https://localhost:8080/"
        },
        "id": "4G481wBfVCCW",
        "outputId": "2244b899-994b-46a9-9e61-61368b44c5e8"
      },
      "source": [
        "tuner.search(train_ds,\n",
        "             validation_data=test_ds,\n",
        "             epochs=5,\n",
        "             callbacks=[tf.keras.callbacks.EarlyStopping(patience=1)])"
      ],
      "execution_count": 7,
      "outputs": [
        {
          "output_type": "stream",
          "name": "stdout",
          "text": [
            "Trial 20 Complete [00h 01m 02s]\n",
            "val_accuracy: 0.6312000155448914\n",
            "\n",
            "Best val_accuracy So Far: 0.776199996471405\n",
            "Total elapsed time: 01h 05m 41s\n",
            "INFO:tensorflow:Oracle triggered exit\n"
          ]
        },
        {
          "output_type": "stream",
          "name": "stderr",
          "text": [
            "INFO:tensorflow:Oracle triggered exit\n"
          ]
        }
      ]
    },
    {
      "cell_type": "code",
      "metadata": {
        "colab": {
          "base_uri": "https://localhost:8080/"
        },
        "id": "n-pGGofaWBHu",
        "outputId": "ce6ad3b8-f735-4437-a79b-53bb478c3045"
      },
      "source": [
        "best_model = tuner.get_best_models(1)[0]\n",
        "best_hyperparameters = tuner.get_best_hyperparameters(1)[0]\n",
        "h_model = tuner.hypermodel.build(best_hyperparameters)\n",
        "h_model.summary()"
      ],
      "execution_count": 8,
      "outputs": [
        {
          "output_type": "stream",
          "name": "stdout",
          "text": [
            "Model: \"model\"\n",
            "_________________________________________________________________\n",
            "Layer (type)                 Output Shape              Param #   \n",
            "=================================================================\n",
            "input_1 (InputLayer)         [(None, 32, 32, 3)]       0         \n",
            "_________________________________________________________________\n",
            "conv2d (Conv2D)              (None, 32, 32, 224)       6272      \n",
            "_________________________________________________________________\n",
            "batch_normalization (BatchNo (None, 32, 32, 224)       896       \n",
            "_________________________________________________________________\n",
            "re_lu (ReLU)                 (None, 32, 32, 224)       0         \n",
            "_________________________________________________________________\n",
            "conv2d_1 (Conv2D)            (None, 32, 32, 224)       451808    \n",
            "_________________________________________________________________\n",
            "batch_normalization_1 (Batch (None, 32, 32, 224)       896       \n",
            "_________________________________________________________________\n",
            "re_lu_1 (ReLU)               (None, 32, 32, 224)       0         \n",
            "_________________________________________________________________\n",
            "max_pooling2d (MaxPooling2D) (None, 16, 16, 224)       0         \n",
            "_________________________________________________________________\n",
            "conv2d_2 (Conv2D)            (None, 16, 16, 224)       451808    \n",
            "_________________________________________________________________\n",
            "batch_normalization_2 (Batch (None, 16, 16, 224)       896       \n",
            "_________________________________________________________________\n",
            "re_lu_2 (ReLU)               (None, 16, 16, 224)       0         \n",
            "_________________________________________________________________\n",
            "conv2d_3 (Conv2D)            (None, 16, 16, 224)       451808    \n",
            "_________________________________________________________________\n",
            "batch_normalization_3 (Batch (None, 16, 16, 224)       896       \n",
            "_________________________________________________________________\n",
            "re_lu_3 (ReLU)               (None, 16, 16, 224)       0         \n",
            "_________________________________________________________________\n",
            "average_pooling2d (AveragePo (None, 8, 8, 224)         0         \n",
            "_________________________________________________________________\n",
            "conv2d_4 (Conv2D)            (None, 8, 8, 224)         451808    \n",
            "_________________________________________________________________\n",
            "batch_normalization_4 (Batch (None, 8, 8, 224)         896       \n",
            "_________________________________________________________________\n",
            "re_lu_4 (ReLU)               (None, 8, 8, 224)         0         \n",
            "_________________________________________________________________\n",
            "conv2d_5 (Conv2D)            (None, 8, 8, 224)         451808    \n",
            "_________________________________________________________________\n",
            "batch_normalization_5 (Batch (None, 8, 8, 224)         896       \n",
            "_________________________________________________________________\n",
            "re_lu_5 (ReLU)               (None, 8, 8, 224)         0         \n",
            "_________________________________________________________________\n",
            "average_pooling2d_1 (Average (None, 4, 4, 224)         0         \n",
            "_________________________________________________________________\n",
            "conv2d_6 (Conv2D)            (None, 4, 4, 128)         258176    \n",
            "_________________________________________________________________\n",
            "batch_normalization_6 (Batch (None, 4, 4, 128)         512       \n",
            "_________________________________________________________________\n",
            "re_lu_6 (ReLU)               (None, 4, 4, 128)         0         \n",
            "_________________________________________________________________\n",
            "conv2d_7 (Conv2D)            (None, 4, 4, 128)         147584    \n",
            "_________________________________________________________________\n",
            "batch_normalization_7 (Batch (None, 4, 4, 128)         512       \n",
            "_________________________________________________________________\n",
            "re_lu_7 (ReLU)               (None, 4, 4, 128)         0         \n",
            "_________________________________________________________________\n",
            "max_pooling2d_1 (MaxPooling2 (None, 2, 2, 128)         0         \n",
            "_________________________________________________________________\n",
            "conv2d_8 (Conv2D)            (None, 2, 2, 224)         258272    \n",
            "_________________________________________________________________\n",
            "batch_normalization_8 (Batch (None, 2, 2, 224)         896       \n",
            "_________________________________________________________________\n",
            "re_lu_8 (ReLU)               (None, 2, 2, 224)         0         \n",
            "_________________________________________________________________\n",
            "conv2d_9 (Conv2D)            (None, 2, 2, 224)         451808    \n",
            "_________________________________________________________________\n",
            "batch_normalization_9 (Batch (None, 2, 2, 224)         896       \n",
            "_________________________________________________________________\n",
            "re_lu_9 (ReLU)               (None, 2, 2, 224)         0         \n",
            "_________________________________________________________________\n",
            "average_pooling2d_2 (Average (None, 1, 1, 224)         0         \n",
            "_________________________________________________________________\n",
            "global_average_pooling2d (Gl (None, 224)               0         \n",
            "_________________________________________________________________\n",
            "dense (Dense)                (None, 70)                15750     \n",
            "_________________________________________________________________\n",
            "dropout (Dropout)            (None, 70)                0         \n",
            "_________________________________________________________________\n",
            "dense_1 (Dense)              (None, 10)                710       \n",
            "=================================================================\n",
            "Total params: 3,405,804\n",
            "Trainable params: 3,401,708\n",
            "Non-trainable params: 4,096\n",
            "_________________________________________________________________\n"
          ]
        }
      ]
    },
    {
      "cell_type": "code",
      "metadata": {
        "colab": {
          "base_uri": "https://localhost:8080/"
        },
        "id": "bnXApEmbWB4k",
        "outputId": "d9a1bac4-be03-4bcb-f98b-c0c6de8b42a5"
      },
      "source": [
        "history=h_model.fit(trainX,trainY, epochs=50, validation_split=0.2)"
      ],
      "execution_count": 9,
      "outputs": [
        {
          "output_type": "stream",
          "name": "stdout",
          "text": [
            "Epoch 1/50\n",
            "1250/1250 [==============================] - 92s 72ms/step - loss: 1.4971 - accuracy: 0.4518 - val_loss: 1.5175 - val_accuracy: 0.4668\n",
            "Epoch 2/50\n",
            "1250/1250 [==============================] - 89s 71ms/step - loss: 1.0385 - accuracy: 0.6312 - val_loss: 1.1492 - val_accuracy: 0.6089\n",
            "Epoch 3/50\n",
            "1250/1250 [==============================] - 89s 71ms/step - loss: 0.8103 - accuracy: 0.7180 - val_loss: 1.0457 - val_accuracy: 0.6660\n",
            "Epoch 4/50\n",
            "1250/1250 [==============================] - 89s 71ms/step - loss: 0.6585 - accuracy: 0.7731 - val_loss: 0.8971 - val_accuracy: 0.6955\n",
            "Epoch 5/50\n",
            "1250/1250 [==============================] - 89s 72ms/step - loss: 0.5548 - accuracy: 0.8118 - val_loss: 0.9920 - val_accuracy: 0.6739\n",
            "Epoch 6/50\n",
            "1250/1250 [==============================] - 89s 71ms/step - loss: 0.4640 - accuracy: 0.8415 - val_loss: 0.6256 - val_accuracy: 0.7961\n",
            "Epoch 7/50\n",
            "1250/1250 [==============================] - 89s 71ms/step - loss: 0.3944 - accuracy: 0.8652 - val_loss: 0.6641 - val_accuracy: 0.7858\n",
            "Epoch 8/50\n",
            "1250/1250 [==============================] - 90s 72ms/step - loss: 0.3212 - accuracy: 0.8895 - val_loss: 0.5958 - val_accuracy: 0.8067\n",
            "Epoch 9/50\n",
            "1250/1250 [==============================] - 90s 72ms/step - loss: 0.2610 - accuracy: 0.9103 - val_loss: 0.6082 - val_accuracy: 0.8155\n",
            "Epoch 10/50\n",
            "1250/1250 [==============================] - 89s 71ms/step - loss: 0.2107 - accuracy: 0.9260 - val_loss: 0.5869 - val_accuracy: 0.8209\n",
            "Epoch 11/50\n",
            "1250/1250 [==============================] - 89s 71ms/step - loss: 0.1759 - accuracy: 0.9400 - val_loss: 0.6350 - val_accuracy: 0.8190\n",
            "Epoch 12/50\n",
            "1250/1250 [==============================] - 89s 71ms/step - loss: 0.1376 - accuracy: 0.9517 - val_loss: 0.6342 - val_accuracy: 0.8312\n",
            "Epoch 13/50\n",
            "1250/1250 [==============================] - 89s 72ms/step - loss: 0.1225 - accuracy: 0.9584 - val_loss: 0.6339 - val_accuracy: 0.8256\n",
            "Epoch 14/50\n",
            "1250/1250 [==============================] - 89s 72ms/step - loss: 0.1032 - accuracy: 0.9643 - val_loss: 0.6571 - val_accuracy: 0.8343\n",
            "Epoch 15/50\n",
            "1250/1250 [==============================] - 89s 71ms/step - loss: 0.0912 - accuracy: 0.9681 - val_loss: 0.7331 - val_accuracy: 0.8257\n",
            "Epoch 16/50\n",
            "1250/1250 [==============================] - 89s 71ms/step - loss: 0.0809 - accuracy: 0.9728 - val_loss: 0.8318 - val_accuracy: 0.8016\n",
            "Epoch 17/50\n",
            "1250/1250 [==============================] - 89s 71ms/step - loss: 0.0701 - accuracy: 0.9768 - val_loss: 0.6798 - val_accuracy: 0.8366\n",
            "Epoch 18/50\n",
            "1250/1250 [==============================] - 89s 71ms/step - loss: 0.0694 - accuracy: 0.9765 - val_loss: 0.7352 - val_accuracy: 0.8299\n",
            "Epoch 19/50\n",
            "1250/1250 [==============================] - 90s 72ms/step - loss: 0.0620 - accuracy: 0.9793 - val_loss: 0.7416 - val_accuracy: 0.8305\n",
            "Epoch 20/50\n",
            "1250/1250 [==============================] - 90s 72ms/step - loss: 0.0553 - accuracy: 0.9819 - val_loss: 0.7482 - val_accuracy: 0.8358\n",
            "Epoch 21/50\n",
            "1250/1250 [==============================] - 90s 72ms/step - loss: 0.0568 - accuracy: 0.9807 - val_loss: 0.8486 - val_accuracy: 0.8122\n",
            "Epoch 22/50\n",
            "1250/1250 [==============================] - 89s 71ms/step - loss: 0.0509 - accuracy: 0.9835 - val_loss: 0.7304 - val_accuracy: 0.8368\n",
            "Epoch 23/50\n",
            "1250/1250 [==============================] - 89s 72ms/step - loss: 0.0488 - accuracy: 0.9837 - val_loss: 0.7292 - val_accuracy: 0.8374\n",
            "Epoch 24/50\n",
            "1250/1250 [==============================] - 90s 72ms/step - loss: 0.0451 - accuracy: 0.9843 - val_loss: 0.7285 - val_accuracy: 0.8406\n",
            "Epoch 25/50\n",
            "1250/1250 [==============================] - 90s 72ms/step - loss: 0.0394 - accuracy: 0.9867 - val_loss: 0.7125 - val_accuracy: 0.8421\n",
            "Epoch 26/50\n",
            "1250/1250 [==============================] - 89s 71ms/step - loss: 0.0422 - accuracy: 0.9855 - val_loss: 0.7948 - val_accuracy: 0.8336\n",
            "Epoch 27/50\n",
            "1250/1250 [==============================] - 89s 71ms/step - loss: 0.0377 - accuracy: 0.9871 - val_loss: 0.7716 - val_accuracy: 0.8372\n",
            "Epoch 28/50\n",
            "1250/1250 [==============================] - 89s 71ms/step - loss: 0.0367 - accuracy: 0.9876 - val_loss: 0.7911 - val_accuracy: 0.8391\n",
            "Epoch 29/50\n",
            "1250/1250 [==============================] - 89s 71ms/step - loss: 0.0350 - accuracy: 0.9884 - val_loss: 0.7774 - val_accuracy: 0.8339\n",
            "Epoch 30/50\n",
            "1250/1250 [==============================] - 89s 71ms/step - loss: 0.0353 - accuracy: 0.9881 - val_loss: 0.7708 - val_accuracy: 0.8401\n",
            "Epoch 31/50\n",
            "1250/1250 [==============================] - 89s 71ms/step - loss: 0.0338 - accuracy: 0.9883 - val_loss: 0.7494 - val_accuracy: 0.8524\n",
            "Epoch 32/50\n",
            "1250/1250 [==============================] - 89s 71ms/step - loss: 0.0335 - accuracy: 0.9891 - val_loss: 0.8558 - val_accuracy: 0.8243\n",
            "Epoch 33/50\n",
            "1250/1250 [==============================] - 89s 71ms/step - loss: 0.0300 - accuracy: 0.9901 - val_loss: 0.7958 - val_accuracy: 0.8394\n",
            "Epoch 34/50\n",
            "1250/1250 [==============================] - 89s 71ms/step - loss: 0.0307 - accuracy: 0.9902 - val_loss: 0.7168 - val_accuracy: 0.8525\n",
            "Epoch 35/50\n",
            "1250/1250 [==============================] - 89s 72ms/step - loss: 0.0303 - accuracy: 0.9902 - val_loss: 0.8162 - val_accuracy: 0.8359\n",
            "Epoch 36/50\n",
            "1250/1250 [==============================] - 90s 72ms/step - loss: 0.0297 - accuracy: 0.9898 - val_loss: 0.7192 - val_accuracy: 0.8519\n",
            "Epoch 37/50\n",
            "1250/1250 [==============================] - 89s 72ms/step - loss: 0.0277 - accuracy: 0.9909 - val_loss: 0.8933 - val_accuracy: 0.8228\n",
            "Epoch 38/50\n",
            "1250/1250 [==============================] - 89s 71ms/step - loss: 0.0268 - accuracy: 0.9912 - val_loss: 0.7052 - val_accuracy: 0.8446\n",
            "Epoch 39/50\n",
            "1250/1250 [==============================] - 89s 71ms/step - loss: 0.0238 - accuracy: 0.9920 - val_loss: 0.8024 - val_accuracy: 0.8420\n",
            "Epoch 40/50\n",
            "1250/1250 [==============================] - 90s 72ms/step - loss: 0.0262 - accuracy: 0.9909 - val_loss: 0.8685 - val_accuracy: 0.8222\n",
            "Epoch 41/50\n",
            "1250/1250 [==============================] - 90s 72ms/step - loss: 0.0220 - accuracy: 0.9923 - val_loss: 0.8189 - val_accuracy: 0.8417\n",
            "Epoch 42/50\n",
            "1250/1250 [==============================] - 90s 72ms/step - loss: 0.0252 - accuracy: 0.9921 - val_loss: 0.8064 - val_accuracy: 0.8448\n",
            "Epoch 43/50\n",
            "1250/1250 [==============================] - 90s 72ms/step - loss: 0.0239 - accuracy: 0.9924 - val_loss: 0.6952 - val_accuracy: 0.8589\n",
            "Epoch 44/50\n",
            "1250/1250 [==============================] - 89s 71ms/step - loss: 0.0203 - accuracy: 0.9934 - val_loss: 0.7688 - val_accuracy: 0.8458\n",
            "Epoch 45/50\n",
            "1250/1250 [==============================] - 89s 71ms/step - loss: 0.0233 - accuracy: 0.9931 - val_loss: 0.9647 - val_accuracy: 0.8241\n",
            "Epoch 46/50\n",
            "1250/1250 [==============================] - 90s 72ms/step - loss: 0.0203 - accuracy: 0.9929 - val_loss: 0.7694 - val_accuracy: 0.8531\n",
            "Epoch 47/50\n",
            "1250/1250 [==============================] - 89s 71ms/step - loss: 0.0217 - accuracy: 0.9929 - val_loss: 0.8392 - val_accuracy: 0.8418\n",
            "Epoch 48/50\n",
            "1250/1250 [==============================] - 89s 71ms/step - loss: 0.0205 - accuracy: 0.9934 - val_loss: 0.7673 - val_accuracy: 0.8505\n",
            "Epoch 49/50\n",
            "1250/1250 [==============================] - 89s 71ms/step - loss: 0.0200 - accuracy: 0.9937 - val_loss: 0.7583 - val_accuracy: 0.8482\n",
            "Epoch 50/50\n",
            "1250/1250 [==============================] - 89s 71ms/step - loss: 0.0182 - accuracy: 0.9936 - val_loss: 0.7576 - val_accuracy: 0.8558\n"
          ]
        }
      ]
    },
    {
      "cell_type": "code",
      "metadata": {
        "colab": {
          "base_uri": "https://localhost:8080/"
        },
        "id": "bHg_gQQJWMSG",
        "outputId": "fbbc270d-5856-4944-a073-e2949ed6193d"
      },
      "source": [
        "h_eval_dict = h_model.evaluate(testX, testY, return_dict=True)"
      ],
      "execution_count": 10,
      "outputs": [
        {
          "output_type": "stream",
          "name": "stdout",
          "text": [
            "313/313 [==============================] - 7s 23ms/step - loss: 0.8139 - accuracy: 0.8472\n"
          ]
        }
      ]
    },
    {
      "cell_type": "code",
      "metadata": {
        "colab": {
          "base_uri": "https://localhost:8080/",
          "height": 283
        },
        "id": "whzNWvmhWQUK",
        "outputId": "9f3337d3-a0dc-4149-b337-d08477cf11f1"
      },
      "source": [
        "history_df = pd.DataFrame(history.history)\n",
        "history_df.loc[:, ['loss', 'val_loss']].plot();\n",
        "print(\"Minimum validation loss: {}\".format(history_df['val_loss'].min()))"
      ],
      "execution_count": 11,
      "outputs": [
        {
          "output_type": "stream",
          "name": "stdout",
          "text": [
            "Minimum validation loss: 0.5869055390357971\n"
          ]
        },
        {
          "output_type": "display_data",
          "data": {
            "image/png": "[encoded data removed]",
            "text/plain": [
              "<Figure size 432x288 with 1 Axes>"
            ]
          },
          "metadata": {
            "needs_background": "light"
          }
        }
      ]
    },
    {
      "cell_type": "code",
      "metadata": {
        "colab": {
          "base_uri": "https://localhost:8080/",
          "height": 283
        },
        "id": "tG_pAkhzWUiG",
        "outputId": "b27e5e9d-835f-4642-9aa0-7e32d6f31246"
      },
      "source": [
        "history_df.loc[:, ['accuracy', 'val_accuracy']].plot();\n",
        "print(\"Maxinmum Validation Accuracy: {}\".format(history_df['val_accuracy'].max()))"
      ],
      "execution_count": 12,
      "outputs": [
        {
          "output_type": "stream",
          "name": "stdout",
          "text": [
            "Maxinmum Validation Accuracy: 0.8589000105857849\n"
          ]
        },
        {
          "output_type": "display_data",
          "data": {
            "image/png": "[encoded data removed]",
            "text/plain": [
              "<Figure size 432x288 with 1 Axes>"
            ]
          },
          "metadata": {
            "needs_background": "light"
          }
        }
      ]
    },
    {
      "cell_type": "markdown",
      "metadata": {
        "id": "IXqf5FjdZ7Og"
      },
      "source": [
        "Hyper parameter tuning with Bayesian"
      ]
    },
    {
      "cell_type": "code",
      "metadata": {
        "id": "AzYLIjfXZ-gP"
      },
      "source": [
        "def build_model(hp):\n",
        "  inputs = tf.keras.Input(shape=(32, 32, 3))\n",
        "  x = inputs\n",
        "  for i in range(hp.Int('conv_blocks', 3, 5, default=3)):\n",
        "    filters = hp.Int('filters_' + str(i), 32, 256, step=32)\n",
        "    for _ in range(2):\n",
        "      x = tf.keras.layers.Convolution2D(\n",
        "        filters, kernel_size=(3, 3), padding='same')(x)\n",
        "      x = tf.keras.layers.BatchNormalization()(x)\n",
        "      x = tf.keras.layers.ReLU()(x)\n",
        "    if hp.Choice('pooling_' + str(i), ['avg', 'max']) == 'max':\n",
        "      x = tf.keras.layers.MaxPool2D()(x)\n",
        "    else:\n",
        "      x = tf.keras.layers.AvgPool2D()(x)\n",
        "  x = tf.keras.layers.GlobalAvgPool2D()(x)\n",
        "  x = tf.keras.layers.Dense(\n",
        "      hp.Int('hidden_size', 30, 100, step=10, default=50),\n",
        "      activation='relu')(x)\n",
        "  x = tf.keras.layers.Dropout(\n",
        "      hp.Float('dropout', 0, 0.5, step=0.1, default=0.5))(x)\n",
        "  outputs = tf.keras.layers.Dense(10, activation='softmax')(x)\n",
        "\n",
        "  model = tf.keras.Model(inputs, outputs)\n",
        "  model.compile(\n",
        "    optimizer=tf.keras.optimizers.Adam(\n",
        "      hp.Float('learning_rate', 1e-4, 1e-2, sampling='log')),\n",
        "    loss='sparse_categorical_crossentropy', \n",
        "    metrics=['accuracy'])\n",
        "  return model"
      ],
      "execution_count": 13,
      "outputs": []
    },
    {
      "cell_type": "code",
      "metadata": {
        "id": "Ry3IGjE1aDq_"
      },
      "source": [
        "tuner = kt.BayesianOptimization(\n",
        "    build_model,\n",
        "    objective='val_accuracy',\n",
        "    max_trials=15,\n",
        "    overwrite=True)"
      ],
      "execution_count": 14,
      "outputs": []
    },
    {
      "cell_type": "code",
      "metadata": {
        "colab": {
          "base_uri": "https://localhost:8080/"
        },
        "id": "saC5byAjaKZ3",
        "outputId": "d794761c-0f30-4f43-bed4-b047def4941d"
      },
      "source": [
        "tuner.search(train_ds,\n",
        "             validation_data=test_ds,\n",
        "             epochs=5,\n",
        "             callbacks=[tf.keras.callbacks.EarlyStopping(patience=1)])"
      ],
      "execution_count": 15,
      "outputs": [
        {
          "output_type": "stream",
          "name": "stdout",
          "text": [
            "Trial 15 Complete [00h 04m 11s]\n",
            "val_accuracy: 0.663100004196167\n",
            "\n",
            "Best val_accuracy So Far: 0.753600001335144\n",
            "Total elapsed time: 01h 15m 12s\n",
            "INFO:tensorflow:Oracle triggered exit\n"
          ]
        },
        {
          "output_type": "stream",
          "name": "stderr",
          "text": [
            "INFO:tensorflow:Oracle triggered exit\n"
          ]
        }
      ]
    },
    {
      "cell_type": "code",
      "metadata": {
        "colab": {
          "base_uri": "https://localhost:8080/"
        },
        "id": "R9fPKa4daNs4",
        "outputId": "7f54e6f0-7802-4b57-a361-141410fabd85"
      },
      "source": [
        "best_model = tuner.get_best_models(1)[0]\n",
        "best_hyperparameters = tuner.get_best_hyperparameters(1)[0]\n",
        "h_model = tuner.hypermodel.build(best_hyperparameters)\n",
        "h_model.summary()"
      ],
      "execution_count": 16,
      "outputs": [
        {
          "output_type": "stream",
          "name": "stdout",
          "text": [
            "WARNING:tensorflow:Unresolved object in checkpoint: (root).optimizer.iter\n"
          ]
        },
        {
          "output_type": "stream",
          "name": "stderr",
          "text": [
            "WARNING:tensorflow:Unresolved object in checkpoint: (root).optimizer.iter\n"
          ]
        },
        {
          "output_type": "stream",
          "name": "stdout",
          "text": [
            "WARNING:tensorflow:Unresolved object in checkpoint: (root).optimizer.beta_1\n"
          ]
        },
        {
          "output_type": "stream",
          "name": "stderr",
          "text": [
            "WARNING:tensorflow:Unresolved object in checkpoint: (root).optimizer.beta_1\n"
          ]
        },
        {
          "output_type": "stream",
          "name": "stdout",
          "text": [
            "WARNING:tensorflow:Unresolved object in checkpoint: (root).optimizer.beta_2\n"
          ]
        },
        {
          "output_type": "stream",
          "name": "stderr",
          "text": [
            "WARNING:tensorflow:Unresolved object in checkpoint: (root).optimizer.beta_2\n"
          ]
        },
        {
          "output_type": "stream",
          "name": "stdout",
          "text": [
            "WARNING:tensorflow:Unresolved object in checkpoint: (root).optimizer.decay\n"
          ]
        },
        {
          "output_type": "stream",
          "name": "stderr",
          "text": [
            "WARNING:tensorflow:Unresolved object in checkpoint: (root).optimizer.decay\n"
          ]
        },
        {
          "output_type": "stream",
          "name": "stdout",
          "text": [
            "WARNING:tensorflow:Unresolved object in checkpoint: (root).optimizer.learning_rate\n"
          ]
        },
        {
          "output_type": "stream",
          "name": "stderr",
          "text": [
            "WARNING:tensorflow:Unresolved object in checkpoint: (root).optimizer.learning_rate\n"
          ]
        },
        {
          "output_type": "stream",
          "name": "stdout",
          "text": [
            "WARNING:tensorflow:A checkpoint was restored (e.g. tf.train.Checkpoint.restore or tf.keras.Model.load_weights) but not all checkpointed values were used. See above for specific issues. Use expect_partial() on the load status object, e.g. tf.train.Checkpoint.restore(...).expect_partial(), to silence these warnings, or use assert_consumed() to make the check explicit. See https://www.tensorflow.org/guide/checkpoint#loading_mechanics for details.\n"
          ]
        },
        {
          "output_type": "stream",
          "name": "stderr",
          "text": [
            "WARNING:tensorflow:A checkpoint was restored (e.g. tf.train.Checkpoint.restore or tf.keras.Model.load_weights) but not all checkpointed values were used. See above for specific issues. Use expect_partial() on the load status object, e.g. tf.train.Checkpoint.restore(...).expect_partial(), to silence these warnings, or use assert_consumed() to make the check explicit. See https://www.tensorflow.org/guide/checkpoint#loading_mechanics for details.\n"
          ]
        },
        {
          "output_type": "stream",
          "name": "stdout",
          "text": [
            "Model: \"model\"\n",
            "_________________________________________________________________\n",
            "Layer (type)                 Output Shape              Param #   \n",
            "=================================================================\n",
            "input_1 (InputLayer)         [(None, 32, 32, 3)]       0         \n",
            "_________________________________________________________________\n",
            "conv2d (Conv2D)              (None, 32, 32, 160)       4480      \n",
            "_________________________________________________________________\n",
            "batch_normalization (BatchNo (None, 32, 32, 160)       640       \n",
            "_________________________________________________________________\n",
            "re_lu (ReLU)                 (None, 32, 32, 160)       0         \n",
            "_________________________________________________________________\n",
            "conv2d_1 (Conv2D)            (None, 32, 32, 160)       230560    \n",
            "_________________________________________________________________\n",
            "batch_normalization_1 (Batch (None, 32, 32, 160)       640       \n",
            "_________________________________________________________________\n",
            "re_lu_1 (ReLU)               (None, 32, 32, 160)       0         \n",
            "_________________________________________________________________\n",
            "max_pooling2d (MaxPooling2D) (None, 16, 16, 160)       0         \n",
            "_________________________________________________________________\n",
            "conv2d_2 (Conv2D)            (None, 16, 16, 256)       368896    \n",
            "_________________________________________________________________\n",
            "batch_normalization_2 (Batch (None, 16, 16, 256)       1024      \n",
            "_________________________________________________________________\n",
            "re_lu_2 (ReLU)               (None, 16, 16, 256)       0         \n",
            "_________________________________________________________________\n",
            "conv2d_3 (Conv2D)            (None, 16, 16, 256)       590080    \n",
            "_________________________________________________________________\n",
            "batch_normalization_3 (Batch (None, 16, 16, 256)       1024      \n",
            "_________________________________________________________________\n",
            "re_lu_3 (ReLU)               (None, 16, 16, 256)       0         \n",
            "_________________________________________________________________\n",
            "max_pooling2d_1 (MaxPooling2 (None, 8, 8, 256)         0         \n",
            "_________________________________________________________________\n",
            "conv2d_4 (Conv2D)            (None, 8, 8, 192)         442560    \n",
            "_________________________________________________________________\n",
            "batch_normalization_4 (Batch (None, 8, 8, 192)         768       \n",
            "_________________________________________________________________\n",
            "re_lu_4 (ReLU)               (None, 8, 8, 192)         0         \n",
            "_________________________________________________________________\n",
            "conv2d_5 (Conv2D)            (None, 8, 8, 192)         331968    \n",
            "_________________________________________________________________\n",
            "batch_normalization_5 (Batch (None, 8, 8, 192)         768       \n",
            "_________________________________________________________________\n",
            "re_lu_5 (ReLU)               (None, 8, 8, 192)         0         \n",
            "_________________________________________________________________\n",
            "average_pooling2d (AveragePo (None, 4, 4, 192)         0         \n",
            "_________________________________________________________________\n",
            "conv2d_6 (Conv2D)            (None, 4, 4, 32)          55328     \n",
            "_________________________________________________________________\n",
            "batch_normalization_6 (Batch (None, 4, 4, 32)          128       \n",
            "_________________________________________________________________\n",
            "re_lu_6 (ReLU)               (None, 4, 4, 32)          0         \n",
            "_________________________________________________________________\n",
            "conv2d_7 (Conv2D)            (None, 4, 4, 32)          9248      \n",
            "_________________________________________________________________\n",
            "batch_normalization_7 (Batch (None, 4, 4, 32)          128       \n",
            "_________________________________________________________________\n",
            "re_lu_7 (ReLU)               (None, 4, 4, 32)          0         \n",
            "_________________________________________________________________\n",
            "average_pooling2d_1 (Average (None, 2, 2, 32)          0         \n",
            "_________________________________________________________________\n",
            "conv2d_8 (Conv2D)            (None, 2, 2, 256)         73984     \n",
            "_________________________________________________________________\n",
            "batch_normalization_8 (Batch (None, 2, 2, 256)         1024      \n",
            "_________________________________________________________________\n",
            "re_lu_8 (ReLU)               (None, 2, 2, 256)         0         \n",
            "_________________________________________________________________\n",
            "conv2d_9 (Conv2D)            (None, 2, 2, 256)         590080    \n",
            "_________________________________________________________________\n",
            "batch_normalization_9 (Batch (None, 2, 2, 256)         1024      \n",
            "_________________________________________________________________\n",
            "re_lu_9 (ReLU)               (None, 2, 2, 256)         0         \n",
            "_________________________________________________________________\n",
            "max_pooling2d_2 (MaxPooling2 (None, 1, 1, 256)         0         \n",
            "_________________________________________________________________\n",
            "global_average_pooling2d (Gl (None, 256)               0         \n",
            "_________________________________________________________________\n",
            "dense (Dense)                (None, 40)                10280     \n",
            "_________________________________________________________________\n",
            "dropout (Dropout)            (None, 40)                0         \n",
            "_________________________________________________________________\n",
            "dense_1 (Dense)              (None, 10)                410       \n",
            "=================================================================\n",
            "Total params: 2,715,042\n",
            "Trainable params: 2,711,458\n",
            "Non-trainable params: 3,584\n",
            "_________________________________________________________________\n"
          ]
        }
      ]
    },
    {
      "cell_type": "code",
      "metadata": {
        "colab": {
          "base_uri": "https://localhost:8080/"
        },
        "id": "FdTIocVnaUSS",
        "outputId": "44eeef78-d09f-40f3-8b31-e4c4b76365a0"
      },
      "source": [
        "history=h_model.fit(trainX,trainY, epochs=50, validation_split=0.2)"
      ],
      "execution_count": null,
      "outputs": [
        {
          "output_type": "stream",
          "name": "stdout",
          "text": [
            "Epoch 1/50\n",
            "1250/1250 [==============================] - 75s 58ms/step - loss: 1.8137 - accuracy: 0.3738 - val_loss: 1.3258 - val_accuracy: 0.5548\n",
            "Epoch 2/50\n",
            "1250/1250 [==============================] - 72s 57ms/step - loss: 1.2965 - accuracy: 0.5652 - val_loss: 1.0875 - val_accuracy: 0.6356\n",
            "Epoch 3/50\n",
            " 142/1250 [==>...........................] - ETA: 58s - loss: 1.0665 - accuracy: 0.6450"
          ]
        }
      ]
    },
    {
      "cell_type": "code",
      "metadata": {
        "id": "xb3ULmI6aY0y"
      },
      "source": [
        "h_eval_dict = h_model.evaluate(testX, testY, return_dict=True)"
      ],
      "execution_count": null,
      "outputs": []
    },
    {
      "cell_type": "code",
      "metadata": {
        "id": "e_Ok4_40aat3"
      },
      "source": [
        "history_df = pd.DataFrame(history.history)\n",
        "history_df.loc[:, ['loss', 'val_loss']].plot();\n",
        "print(\"Minimum validation loss: {}\".format(history_df['val_loss'].min()))"
      ],
      "execution_count": null,
      "outputs": []
    },
    {
      "cell_type": "code",
      "metadata": {
        "id": "zQKli-NPac5W"
      },
      "source": [
        "history_df.loc[:, ['accuracy', 'val_accuracy']].plot();\n",
        "print(\"Maxinmum Validation Accuracy: {}\".format(history_df['val_accuracy'].max()))"
      ],
      "execution_count": null,
      "outputs": []
    },
    {
      "cell_type": "markdown",
      "metadata": {
        "id": "PEW2U9x1bJeL"
      },
      "source": [
        "Hyperparam tuning with Bayesian (Resnet)"
      ]
    },
    {
      "cell_type": "code",
      "metadata": {
        "id": "7Bn3V_HtbPJd"
      },
      "source": [
        "def relu_bn(inputs: Tensor) -> Tensor:\n",
        "    relu = ReLU()(inputs)\n",
        "    bn = BatchNormalization()(relu)\n",
        "    return bn"
      ],
      "execution_count": null,
      "outputs": []
    },
    {
      "cell_type": "code",
      "metadata": {
        "id": "DTblxQ6MbTnU"
      },
      "source": [
        "def residual_block(x: Tensor, downsample: bool, filters: int, kernel_size: int = 3) -> Tensor:\n",
        "    y = Conv2D(kernel_size=kernel_size,\n",
        "               strides= (1 if not downsample else 2),\n",
        "               filters=filters,\n",
        "               padding=\"same\")(x)\n",
        "    y = relu_bn(y)\n",
        "    y = Conv2D(kernel_size=kernel_size,\n",
        "               strides=1,\n",
        "               filters=filters,\n",
        "               padding=\"same\")(y)\n",
        "\n",
        "    if downsample:\n",
        "        x = Conv2D(kernel_size=1,\n",
        "                   strides=2,\n",
        "                   filters=filters,\n",
        "                   padding=\"same\")(x)\n",
        "    out = Add()([x, y])\n",
        "    out = relu_bn(out)\n",
        "    return out"
      ],
      "execution_count": null,
      "outputs": []
    },
    {
      "cell_type": "code",
      "metadata": {
        "id": "XbAY4guwbWWg"
      },
      "source": [
        "def build_model_resnet(hp):\n",
        "    \n",
        "    inputs = Input(shape=(32, 32, 3))\n",
        "    num_filters = hp.Int('filters_' , 32, 256, step=32)\n",
        "    \n",
        "    t = BatchNormalization()(inputs)\n",
        "    t = Conv2D(kernel_size=3,\n",
        "               strides=1,\n",
        "               filters=num_filters,\n",
        "               padding=\"same\")(t)\n",
        "    t = relu_bn(t)\n",
        "    \n",
        "    num_blocks_list = [2, 5, 5, 2]\n",
        "    for i in range(len(num_blocks_list)):\n",
        "        num_blocks = num_blocks_list[i]\n",
        "        for j in range(num_blocks):\n",
        "            t = residual_block(t, downsample=(j==0 and i!=0), filters=num_filters)\n",
        "        num_filters *= 2\n",
        "    if hp.Choice('pooling_', ['avg', 'max']) == 'max':\n",
        "      t = tf.keras.layers.MaxPool2D()(t)\n",
        "    else:\n",
        "      t = tf.keras.layers.AvgPool2D()(t)\n",
        "    t= tf.keras.layers.Dropout(hp.Float('dropout', 0, 0.5, step=0.1, default=0.5))(t)\n",
        "    \n",
        "    t = Flatten()(t)\n",
        "    outputs = Dense(10, activation='softmax')(t)\n",
        "    \n",
        "    model = Model(inputs, outputs)\n",
        "\n",
        "    model.compile(\n",
        "    optimizer=tf.keras.optimizers.Adam(hp.Float('learning_rate', 1e-4, 1e-2, sampling='log')),loss='sparse_categorical_crossentropy', metrics=['accuracy'])\n",
        "\n",
        "    return model"
      ],
      "execution_count": null,
      "outputs": []
    },
    {
      "cell_type": "code",
      "metadata": {
        "id": "vxwGqlU_bgfX"
      },
      "source": [
        "tuner = kt.BayesianOptimization(\n",
        "    build_model_resnet,\n",
        "    objective='val_accuracy',\n",
        "    max_trials=5,\n",
        "    overwrite=True)"
      ],
      "execution_count": null,
      "outputs": []
    },
    {
      "cell_type": "code",
      "metadata": {
        "id": "2BQVl1tSbkh2"
      },
      "source": [
        "tuner.search(train_ds,\n",
        "             validation_data=test_ds,\n",
        "             epochs=3,\n",
        "             callbacks=[tf.keras.callbacks.EarlyStopping(patience=1)])"
      ],
      "execution_count": null,
      "outputs": []
    },
    {
      "cell_type": "code",
      "metadata": {
        "id": "dIkVXC37bnur"
      },
      "source": [
        "best_model = tuner.get_best_models(1)[0]\n",
        "best_hyperparameters = tuner.get_best_hyperparameters(1)[0]\n",
        "h_model = tuner.hypermodel.build(best_hyperparameters)\n",
        "h_model.summary()"
      ],
      "execution_count": null,
      "outputs": []
    },
    {
      "cell_type": "code",
      "metadata": {
        "id": "v5kjCMu-bsnd"
      },
      "source": [
        "\n",
        "log_dir=\"logs/fit/\" + datetime.datetime.now().strftime(\"%Y%m%d-%H%M%S\")\n",
        "tensorboard_callback = tf.keras.callbacks.TensorBoard(\n",
        "    log_dir=log_dir, histogram_freq=1)\n",
        "hparams_callback = hp.KerasCallback(log_dir, {\n",
        "    'num_relu_units': 512,\n",
        "    'dropout': 0.2\n",
        "})"
      ],
      "execution_count": null,
      "outputs": []
    },
    {
      "cell_type": "code",
      "metadata": {
        "id": "-F-9Itofb0hP"
      },
      "source": [
        "history=h_model.fit(trainX,trainY, epochs=30, validation_split=0.2,callbacks=[tensorboard_callback, hparams_callback])"
      ],
      "execution_count": null,
      "outputs": []
    },
    {
      "cell_type": "code",
      "metadata": {
        "id": "fTAt7nbpb34u"
      },
      "source": [
        ""
      ],
      "execution_count": null,
      "outputs": []
    }
  ]
}