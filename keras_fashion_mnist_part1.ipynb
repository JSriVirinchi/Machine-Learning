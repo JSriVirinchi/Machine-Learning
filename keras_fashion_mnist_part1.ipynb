{
  "nbformat": 4,
  "nbformat_minor": 0,
  "metadata": {
    "colab": {
      "name": "Assignment 5 after modification.ipynb",
      "provenance": []
    },
    "kernelspec": {
      "name": "python3",
      "display_name": "Python 3"
    },
    "language_info": {
      "name": "python"
    },
    "accelerator": "GPU"
  },
  "cells": [
    {
      "cell_type": "code",
      "metadata": {
        "id": "XfiqWO_mM3aK"
      },
      "source": [
        "import numpy as np\n",
        "import pandas as pd\n",
        "import matplotlib.pyplot as plt\n",
        "import keras\n",
        "from keras.datasets import fashion_mnist\n",
        "from sklearn.model_selection import train_test_split\n",
        "from sklearn.metrics import classification_report\n",
        "from tensorflow.keras.callbacks import EarlyStopping\n",
        "from tensorflow.keras.callbacks import ReduceLROnPlateau"
      ],
      "execution_count": 15,
      "outputs": []
    },
    {
      "cell_type": "markdown",
      "metadata": {
        "id": "PpIJXr6XNVpg"
      },
      "source": [
        "Load data and reshape"
      ]
    },
    {
      "cell_type": "code",
      "metadata": {
        "id": "K_Ugl6lZNBTL"
      },
      "source": [
        "(X_train, y_train), (X_test, y_test) = fashion_mnist.load_data()\n",
        "X_train = X_train.reshape(X_train.shape[0], 28, 28, 1)\n",
        "X_test = X_test.reshape(X_test.shape[0], 28, 28, 1)"
      ],
      "execution_count": 16,
      "outputs": []
    },
    {
      "cell_type": "markdown",
      "metadata": {
        "id": "Ft4aLOIONiqp"
      },
      "source": [
        "Quadratic intensity scaling"
      ]
    },
    {
      "cell_type": "code",
      "metadata": {
        "id": "MlK4E6s6Nbpa"
      },
      "source": [
        "X_train = np.array(255*(X_train / 255) **2)\n",
        "X_test = np.array(255*(X_test / 255) **2)"
      ],
      "execution_count": 17,
      "outputs": []
    },
    {
      "cell_type": "code",
      "metadata": {
        "colab": {
          "base_uri": "https://localhost:8080/"
        },
        "id": "yqP45rl7Nk0F",
        "outputId": "a3d11da4-229f-44a7-d7f0-66757dbf4663"
      },
      "source": [
        "Y_train = keras.utils.np_utils.to_categorical(y_train, 10)\n",
        "Y_test = keras.utils.np_utils.to_categorical(y_test, 10)\n",
        "print(Y_train.shape)\n",
        "print(Y_train.shape)"
      ],
      "execution_count": 18,
      "outputs": [
        {
          "output_type": "stream",
          "name": "stdout",
          "text": [
            "(60000, 10)\n",
            "(60000, 10)\n"
          ]
        }
      ]
    },
    {
      "cell_type": "markdown",
      "metadata": {
        "id": "8GHjHgfkSGj7"
      },
      "source": [
        "Splitting into train and validations"
      ]
    },
    {
      "cell_type": "code",
      "metadata": {
        "colab": {
          "base_uri": "https://localhost:8080/"
        },
        "id": "0vW4AripNpsH",
        "outputId": "8e40fc16-baad-4278-f0ca-bf923b2e5cb9"
      },
      "source": [
        "x_train, x_val, y_train, y_val = train_test_split(X_train, Y_train, test_size = 0.1, random_state = 2)\n",
        "print(x_train.shape, x_val.shape, y_train.shape, y_val.shape)"
      ],
      "execution_count": 19,
      "outputs": [
        {
          "output_type": "stream",
          "name": "stdout",
          "text": [
            "(54000, 28, 28, 1) (6000, 28, 28, 1) (54000, 10) (6000, 10)\n"
          ]
        }
      ]
    },
    {
      "cell_type": "markdown",
      "metadata": {
        "id": "gqReXuRaSJYr"
      },
      "source": [
        "Model"
      ]
    },
    {
      "cell_type": "code",
      "metadata": {
        "id": "s97KBRgnNty6"
      },
      "source": [
        "model = keras.models.Sequential()\n",
        "\n",
        "#layer 1\n",
        "#convolution\n",
        "model.add(keras.layers.Conv2D(filters = 32, kernel_size = (3,3), padding = 'Same', input_shape=(28, 28, 1)))\n",
        "model.add(keras.layers.BatchNormalization())\n",
        "model.add(keras.layers.Activation(\"relu\"))\n",
        "\n",
        "#layer 2\n",
        "#convolution\n",
        "model.add(keras.layers.Conv2D(filters = 32, kernel_size = (3,3), padding = 'Same'))\n",
        "model.add(keras.layers.BatchNormalization())\n",
        "model.add(keras.layers.Activation(\"relu\"))\n",
        "#max Pool\n",
        "model.add(keras.layers.MaxPool2D(pool_size=(2, 2)))\n",
        "#dropout\n",
        "model.add(keras.layers.Dropout(0.2))\n",
        "\n",
        "#layer 3\n",
        "#convolution  \n",
        "model.add(keras.layers.Conv2D(filters = 64, kernel_size = (3,3), padding = 'Same'))\n",
        "model.add(keras.layers.BatchNormalization())\n",
        "model.add(keras.layers.Activation(\"relu\"))\n",
        "\n",
        "#layer 4\n",
        "#convolution \n",
        "model.add(keras.layers.Conv2D(filters = 64, kernel_size = (3,3), padding = 'Same'))\n",
        "model.add(keras.layers.BatchNormalization())\n",
        "model.add(keras.layers.Activation(\"relu\"))\n",
        "#max Pool\n",
        "model.add(keras.layers.MaxPool2D(pool_size=(2, 2)))\n",
        "model.add(keras.layers.Dropout(0.2))\n",
        "\n",
        "\n",
        "#FC layer\n",
        "model.add(keras.layers.Flatten())\n",
        "model.add(keras.layers.Dense(256))\n",
        "model.add(keras.layers.BatchNormalization())\n",
        "model.add(keras.layers.Activation(\"relu\"))\n",
        "model.add(keras.layers.Dropout(0.4))\n",
        "\n",
        "#output layer\n",
        "model.add(keras.layers.Dense(10, activation='softmax'))"
      ],
      "execution_count": 20,
      "outputs": []
    },
    {
      "cell_type": "code",
      "metadata": {
        "colab": {
          "base_uri": "https://localhost:8080/"
        },
        "id": "lf6gL-3sQuEN",
        "outputId": "fc4cc639-9956-4f33-df32-96f7e3ef0329"
      },
      "source": [
        "model.summary()"
      ],
      "execution_count": 21,
      "outputs": [
        {
          "output_type": "stream",
          "name": "stdout",
          "text": [
            "Model: \"sequential_1\"\n",
            "_________________________________________________________________\n",
            "Layer (type)                 Output Shape              Param #   \n",
            "=================================================================\n",
            "conv2d_4 (Conv2D)            (None, 28, 28, 32)        320       \n",
            "_________________________________________________________________\n",
            "batch_normalization_5 (Batch (None, 28, 28, 32)        128       \n",
            "_________________________________________________________________\n",
            "activation_5 (Activation)    (None, 28, 28, 32)        0         \n",
            "_________________________________________________________________\n",
            "conv2d_5 (Conv2D)            (None, 28, 28, 32)        9248      \n",
            "_________________________________________________________________\n",
            "batch_normalization_6 (Batch (None, 28, 28, 32)        128       \n",
            "_________________________________________________________________\n",
            "activation_6 (Activation)    (None, 28, 28, 32)        0         \n",
            "_________________________________________________________________\n",
            "max_pooling2d_2 (MaxPooling2 (None, 14, 14, 32)        0         \n",
            "_________________________________________________________________\n",
            "dropout_3 (Dropout)          (None, 14, 14, 32)        0         \n",
            "_________________________________________________________________\n",
            "conv2d_6 (Conv2D)            (None, 14, 14, 64)        18496     \n",
            "_________________________________________________________________\n",
            "batch_normalization_7 (Batch (None, 14, 14, 64)        256       \n",
            "_________________________________________________________________\n",
            "activation_7 (Activation)    (None, 14, 14, 64)        0         \n",
            "_________________________________________________________________\n",
            "conv2d_7 (Conv2D)            (None, 14, 14, 64)        36928     \n",
            "_________________________________________________________________\n",
            "batch_normalization_8 (Batch (None, 14, 14, 64)        256       \n",
            "_________________________________________________________________\n",
            "activation_8 (Activation)    (None, 14, 14, 64)        0         \n",
            "_________________________________________________________________\n",
            "max_pooling2d_3 (MaxPooling2 (None, 7, 7, 64)          0         \n",
            "_________________________________________________________________\n",
            "dropout_4 (Dropout)          (None, 7, 7, 64)          0         \n",
            "_________________________________________________________________\n",
            "flatten_1 (Flatten)          (None, 3136)              0         \n",
            "_________________________________________________________________\n",
            "dense_2 (Dense)              (None, 256)               803072    \n",
            "_________________________________________________________________\n",
            "batch_normalization_9 (Batch (None, 256)               1024      \n",
            "_________________________________________________________________\n",
            "activation_9 (Activation)    (None, 256)               0         \n",
            "_________________________________________________________________\n",
            "dropout_5 (Dropout)          (None, 256)               0         \n",
            "_________________________________________________________________\n",
            "dense_3 (Dense)              (None, 10)                2570      \n",
            "=================================================================\n",
            "Total params: 872,426\n",
            "Trainable params: 871,530\n",
            "Non-trainable params: 896\n",
            "_________________________________________________________________\n"
          ]
        }
      ]
    },
    {
      "cell_type": "markdown",
      "metadata": {
        "id": "hJlQTxhQQ5y1"
      },
      "source": [
        "Compiling"
      ]
    },
    {
      "cell_type": "code",
      "metadata": {
        "id": "5B6PZFNuQw-H"
      },
      "source": [
        "model.compile(optimizer = 'adam', loss = \"categorical_crossentropy\", metrics=[\"accuracy\"])"
      ],
      "execution_count": 22,
      "outputs": []
    },
    {
      "cell_type": "code",
      "metadata": {
        "id": "CFImkivJRCDA"
      },
      "source": [
        "datagen =  keras.preprocessing.image.ImageDataGenerator(rotation_range=0.1, #randomly rotate the images\n",
        "                             horizontal_flip = True, # randomly flip images\n",
        "                             zoom_range = 0.1, # Randomly zoom image\n",
        "                             width_shift_range=0.2, # randomly shift images horizontally\n",
        "                             height_shift_range=0.2, # randomly shift images vertically\n",
        "                             fill_mode='nearest')\n",
        "datagen.fit(X_train)"
      ],
      "execution_count": 23,
      "outputs": []
    },
    {
      "cell_type": "markdown",
      "metadata": {
        "id": "xIY8RuT5SNwa"
      },
      "source": [
        "Fitting"
      ]
    },
    {
      "cell_type": "code",
      "metadata": {
        "colab": {
          "base_uri": "https://localhost:8080/"
        },
        "id": "TadHQVw6RNjn",
        "outputId": "e6f91b41-86de-433c-aad5-80ca790ad690"
      },
      "source": [
        "RLROP = ReduceLROnPlateau(monitor='val_loss', min_lr=0.00001, patience=20, mode='min', factor=0.2, verbose=1)\n",
        "history = model.fit(datagen.flow(x_train, y_train, batch_size=32),\n",
        "                    shuffle=True,\n",
        "                    epochs=32, validation_data = (x_val, y_val),\n",
        "                    verbose = 2, \n",
        "                    steps_per_epoch = x_train.shape[0] // 32, \n",
        "                    callbacks=[EarlyStopping(patience=20),RLROP])"
      ],
      "execution_count": 24,
      "outputs": [
        {
          "output_type": "stream",
          "name": "stdout",
          "text": [
            "Epoch 1/32\n",
            "1687/1687 - 58s - loss: 0.8015 - accuracy: 0.7080 - val_loss: 0.4921 - val_accuracy: 0.8175\n",
            "Epoch 2/32\n",
            "1687/1687 - 29s - loss: 0.5700 - accuracy: 0.7908 - val_loss: 0.4156 - val_accuracy: 0.8490\n",
            "Epoch 3/32\n",
            "1687/1687 - 29s - loss: 0.5008 - accuracy: 0.8165 - val_loss: 0.3609 - val_accuracy: 0.8773\n",
            "Epoch 4/32\n",
            "1687/1687 - 29s - loss: 0.4602 - accuracy: 0.8323 - val_loss: 0.3112 - val_accuracy: 0.8890\n",
            "Epoch 5/32\n",
            "1687/1687 - 28s - loss: 0.4337 - accuracy: 0.8427 - val_loss: 0.3213 - val_accuracy: 0.8893\n",
            "Epoch 6/32\n",
            "1687/1687 - 28s - loss: 0.4132 - accuracy: 0.8487 - val_loss: 0.3176 - val_accuracy: 0.8850\n",
            "Epoch 7/32\n",
            "1687/1687 - 29s - loss: 0.4004 - accuracy: 0.8546 - val_loss: 0.2697 - val_accuracy: 0.9008\n",
            "Epoch 8/32\n",
            "1687/1687 - 28s - loss: 0.3840 - accuracy: 0.8598 - val_loss: 0.2898 - val_accuracy: 0.8978\n",
            "Epoch 9/32\n",
            "1687/1687 - 28s - loss: 0.3771 - accuracy: 0.8627 - val_loss: 0.2711 - val_accuracy: 0.9048\n",
            "Epoch 10/32\n",
            "1687/1687 - 28s - loss: 0.3671 - accuracy: 0.8664 - val_loss: 0.2376 - val_accuracy: 0.9152\n",
            "Epoch 11/32\n",
            "1687/1687 - 28s - loss: 0.3537 - accuracy: 0.8717 - val_loss: 0.2365 - val_accuracy: 0.9172\n",
            "Epoch 12/32\n",
            "1687/1687 - 28s - loss: 0.3482 - accuracy: 0.8738 - val_loss: 0.2422 - val_accuracy: 0.9133\n",
            "Epoch 13/32\n",
            "1687/1687 - 29s - loss: 0.3468 - accuracy: 0.8732 - val_loss: 0.2505 - val_accuracy: 0.9128\n",
            "Epoch 14/32\n",
            "1687/1687 - 29s - loss: 0.3408 - accuracy: 0.8776 - val_loss: 0.2488 - val_accuracy: 0.9130\n",
            "Epoch 15/32\n",
            "1687/1687 - 29s - loss: 0.3368 - accuracy: 0.8777 - val_loss: 0.2364 - val_accuracy: 0.9128\n",
            "Epoch 16/32\n",
            "1687/1687 - 29s - loss: 0.3363 - accuracy: 0.8774 - val_loss: 0.2599 - val_accuracy: 0.9023\n",
            "Epoch 17/32\n",
            "1687/1687 - 29s - loss: 0.3283 - accuracy: 0.8815 - val_loss: 0.2482 - val_accuracy: 0.9113\n",
            "Epoch 18/32\n",
            "1687/1687 - 29s - loss: 0.3232 - accuracy: 0.8839 - val_loss: 0.2275 - val_accuracy: 0.9195\n",
            "Epoch 19/32\n",
            "1687/1687 - 29s - loss: 0.3213 - accuracy: 0.8846 - val_loss: 0.2419 - val_accuracy: 0.9130\n",
            "Epoch 20/32\n",
            "1687/1687 - 29s - loss: 0.3181 - accuracy: 0.8846 - val_loss: 0.2272 - val_accuracy: 0.9142\n",
            "Epoch 21/32\n",
            "1687/1687 - 29s - loss: 0.3144 - accuracy: 0.8865 - val_loss: 0.2232 - val_accuracy: 0.9195\n",
            "Epoch 22/32\n",
            "1687/1687 - 29s - loss: 0.3124 - accuracy: 0.8870 - val_loss: 0.2318 - val_accuracy: 0.9135\n",
            "Epoch 23/32\n",
            "1687/1687 - 29s - loss: 0.3106 - accuracy: 0.8869 - val_loss: 0.2212 - val_accuracy: 0.9195\n",
            "Epoch 24/32\n",
            "1687/1687 - 29s - loss: 0.3065 - accuracy: 0.8884 - val_loss: 0.2269 - val_accuracy: 0.9172\n",
            "Epoch 25/32\n",
            "1687/1687 - 29s - loss: 0.3035 - accuracy: 0.8911 - val_loss: 0.2477 - val_accuracy: 0.9062\n",
            "Epoch 26/32\n",
            "1687/1687 - 28s - loss: 0.3031 - accuracy: 0.8909 - val_loss: 0.2223 - val_accuracy: 0.9212\n",
            "Epoch 27/32\n",
            "1687/1687 - 29s - loss: 0.2998 - accuracy: 0.8916 - val_loss: 0.2357 - val_accuracy: 0.9120\n",
            "Epoch 28/32\n",
            "1687/1687 - 29s - loss: 0.2983 - accuracy: 0.8920 - val_loss: 0.2121 - val_accuracy: 0.9252\n",
            "Epoch 29/32\n",
            "1687/1687 - 28s - loss: 0.2946 - accuracy: 0.8938 - val_loss: 0.2132 - val_accuracy: 0.9247\n",
            "Epoch 30/32\n",
            "1687/1687 - 28s - loss: 0.2930 - accuracy: 0.8942 - val_loss: 0.2193 - val_accuracy: 0.9213\n",
            "Epoch 31/32\n",
            "1687/1687 - 28s - loss: 0.2954 - accuracy: 0.8927 - val_loss: 0.2101 - val_accuracy: 0.9265\n",
            "Epoch 32/32\n",
            "1687/1687 - 28s - loss: 0.2890 - accuracy: 0.8942 - val_loss: 0.2029 - val_accuracy: 0.9287\n"
          ]
        }
      ]
    },
    {
      "cell_type": "markdown",
      "metadata": {
        "id": "x9ooEteySS78"
      },
      "source": [
        "Accuracy"
      ]
    },
    {
      "cell_type": "code",
      "metadata": {
        "colab": {
          "base_uri": "https://localhost:8080/",
          "height": 513
        },
        "id": "45Id69gUR4XU",
        "outputId": "6fcca815-e3a2-421b-ad41-5f785b2b69f2"
      },
      "source": [
        "acc = history.history['accuracy']\n",
        "val_acc = history.history['val_accuracy']\n",
        "\n",
        "loss = history.history['loss']\n",
        "val_loss = history.history['val_loss']\n",
        "\n",
        "plt.figure(figsize=(8, 8))\n",
        "plt.subplot(2, 1, 1)\n",
        "plt.plot(acc, label='Training Accuracy')\n",
        "plt.plot(val_acc, label='Validation Accuracy')\n",
        "plt.legend(loc='lower right')\n",
        "plt.ylabel('Accuracy')\n",
        "plt.ylim([0,1])\n",
        "plt.title('Training and Validation Accuracy')\n",
        "\n",
        "plt.subplot(2, 1, 2)\n",
        "plt.plot(loss, label='Training Loss')\n",
        "plt.plot(val_loss, label='Validation Loss')\n",
        "plt.legend(loc='upper right')\n",
        "plt.ylabel('Cross Entropy')\n",
        "plt.ylim([0,1.0])\n",
        "plt.title('Training and Validation Loss')\n",
        "plt.xlabel('epoch')\n",
        "plt.show()"
      ],
      "execution_count": 25,
      "outputs": [
        {
          "output_type": "display_data",
          "data": {
            "image/png": "[encoded data removed]",
            "text/plain": [
              "<Figure size 576x576 with 2 Axes>"
            ]
          },
          "metadata": {
            "needs_background": "light"
          }
        }
      ]
    },
    {
      "cell_type": "code",
      "metadata": {
        "colab": {
          "base_uri": "https://localhost:8080/"
        },
        "id": "K5MxjljBR5Lp",
        "outputId": "4d025079-7b62-46e8-8c00-83ab664ea70e"
      },
      "source": [
        "print('Train accuracy: ',history.history['accuracy'][-1])\n",
        "print('Validation accuracy: ',history.history['val_accuracy'][-1])\n",
        "\n",
        "score = model.evaluate(X_test,Y_test,verbose=0)\n",
        "print(\"Test Loss:\",score[0])\n",
        "print(\"Test Accuracy:\",score[1])"
      ],
      "execution_count": 26,
      "outputs": [
        {
          "output_type": "stream",
          "name": "stdout",
          "text": [
            "Train accuracy:  0.8941594958305359\n",
            "Validation accuracy:  0.9286666512489319\n",
            "Test Loss: 0.2206391543149948\n",
            "Test Accuracy: 0.9199000000953674\n"
          ]
        }
      ]
    },
    {
      "cell_type": "markdown",
      "metadata": {
        "id": "ckGlVDLlZdl3"
      },
      "source": [
        "So, with modifications, accuracy got better.\n",
        "Train accuracy -> Before modification:88.7%, After modificaiton: 89.1%\n",
        "Test accuracy -> Before: 89.1%, after: 91.99%\n",
        "\n",
        "Accuracy could have gotten better if more epochs are used, but training is taking more time."
      ]
    },
    {
      "cell_type": "code",
      "metadata": {
        "id": "279pjYSUaoKE"
      },
      "source": [
        ""
      ],
      "execution_count": null,
      "outputs": []
    }
  ]
}