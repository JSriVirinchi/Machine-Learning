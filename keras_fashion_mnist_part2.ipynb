{
  "nbformat": 4,
  "nbformat_minor": 0,
  "metadata": {
    "colab": {
      "name": "Assignment 5 before modification.ipynb",
      "provenance": []
    },
    "kernelspec": {
      "name": "python3",
      "display_name": "Python 3"
    },
    "language_info": {
      "name": "python"
    },
    "accelerator": "GPU"
  },
  "cells": [
    {
      "cell_type": "code",
      "metadata": {
        "id": "us3seCMFuYHo"
      },
      "source": [
        "import numpy as np\n",
        "import pandas as pd\n",
        "import matplotlib.pyplot as plt\n",
        "from keras.datasets import fashion_mnist\n",
        "import keras\n",
        "from sklearn.model_selection import train_test_split\n",
        "from sklearn.metrics import classification_report"
      ],
      "execution_count": 1,
      "outputs": []
    },
    {
      "cell_type": "markdown",
      "metadata": {
        "id": "Gy4z8POcxTRN"
      },
      "source": [
        "Importing and reshaping"
      ]
    },
    {
      "cell_type": "code",
      "metadata": {
        "colab": {
          "base_uri": "https://localhost:8080/"
        },
        "id": "V59mCAyiv5VO",
        "outputId": "562c06bc-940c-4d8a-c30d-babeafe3dc50"
      },
      "source": [
        "(X_train, y_train), (X_test, y_test) = fashion_mnist.load_data()"
      ],
      "execution_count": 2,
      "outputs": [
        {
          "output_type": "stream",
          "name": "stdout",
          "text": [
            "Downloading data from https://storage.googleapis.com/tensorflow/tf-keras-datasets/train-labels-idx1-ubyte.gz\n",
            "32768/29515 [=================================] - 0s 0us/step\n",
            "40960/29515 [=========================================] - 0s 0us/step\n",
            "Downloading data from https://storage.googleapis.com/tensorflow/tf-keras-datasets/train-images-idx3-ubyte.gz\n",
            "26427392/26421880 [==============================] - 0s 0us/step\n",
            "26435584/26421880 [==============================] - 0s 0us/step\n",
            "Downloading data from https://storage.googleapis.com/tensorflow/tf-keras-datasets/t10k-labels-idx1-ubyte.gz\n",
            "16384/5148 [===============================================================================================] - 0s 0us/step\n",
            "Downloading data from https://storage.googleapis.com/tensorflow/tf-keras-datasets/t10k-images-idx3-ubyte.gz\n",
            "4423680/4422102 [==============================] - 0s 0us/step\n",
            "4431872/4422102 [==============================] - 0s 0us/step\n"
          ]
        }
      ]
    },
    {
      "cell_type": "code",
      "metadata": {
        "id": "CRTxng1Sv93k"
      },
      "source": [
        "X_train = X_train.reshape(X_train.shape[0], 28, 28, 1)\n",
        "X_test = X_test.reshape(X_test.shape[0], 28, 28, 1)"
      ],
      "execution_count": 3,
      "outputs": []
    },
    {
      "cell_type": "markdown",
      "metadata": {
        "id": "-nKjOjbBxKFH"
      },
      "source": [
        "Quadratic Intensity scaling"
      ]
    },
    {
      "cell_type": "code",
      "metadata": {
        "id": "3LXfGpfqwQs-"
      },
      "source": [
        "X_train = np.array(255*(X_train / 255) **2)\n",
        "X_test = np.array(255*(X_test / 255) **2)"
      ],
      "execution_count": 4,
      "outputs": []
    },
    {
      "cell_type": "code",
      "metadata": {
        "colab": {
          "base_uri": "https://localhost:8080/"
        },
        "id": "cE64B4MWw9xe",
        "outputId": "f0bbcff9-0131-4b04-fcda-97395a65ff1b"
      },
      "source": [
        "Y_train = keras.utils.np_utils.to_categorical(y_train, 10)\n",
        "Y_test = keras.utils.np_utils.to_categorical(y_test, 10)\n",
        "print(Y_train.shape)\n",
        "print(Y_train.shape)"
      ],
      "execution_count": 5,
      "outputs": [
        {
          "output_type": "stream",
          "name": "stdout",
          "text": [
            "(60000, 10)\n",
            "(60000, 10)\n"
          ]
        }
      ]
    },
    {
      "cell_type": "markdown",
      "metadata": {
        "id": "CEZHQegbzY0v"
      },
      "source": [
        "Splitting into train and validation"
      ]
    },
    {
      "cell_type": "code",
      "metadata": {
        "colab": {
          "base_uri": "https://localhost:8080/"
        },
        "id": "VaIfILijyVUN",
        "outputId": "b9244dab-a277-4ae2-8ab2-3b3abd454f45"
      },
      "source": [
        "x_train, x_val, y_train, y_val = train_test_split(X_train, Y_train, test_size = 0.1, random_state = 2)\n",
        "print(x_train.shape, x_val.shape, y_train.shape, y_val.shape)"
      ],
      "execution_count": 6,
      "outputs": [
        {
          "output_type": "stream",
          "name": "stdout",
          "text": [
            "(54000, 28, 28, 1) (6000, 28, 28, 1) (54000, 10) (6000, 10)\n"
          ]
        }
      ]
    },
    {
      "cell_type": "markdown",
      "metadata": {
        "id": "LcRPtL4S2Ecm"
      },
      "source": [
        "Model"
      ]
    },
    {
      "cell_type": "code",
      "metadata": {
        "id": "ofFa880W096T"
      },
      "source": [
        "model = keras.models.Sequential()\n",
        "#Layer 1\n",
        "#Convolution\n",
        "model.add(keras.layers.Conv2D(filters = 32, kernel_size = (3,3), padding = 'Same', input_shape=(28, 28, 1)))\n",
        "model.add(keras.layers.Activation(\"relu\"))\n",
        "\n",
        "#Layer 2\n",
        "#Convolution\n",
        "model.add(keras.layers.Conv2D(filters = 32, kernel_size = (3,3), padding = 'Same'))\n",
        "model.add(keras.layers.Activation(\"relu\"))\n",
        "#max pool\n",
        "model.add(keras.layers.MaxPool2D(pool_size=(2, 2)))\n",
        "\n",
        "#layer 3\n",
        "#Convolution\n",
        "model.add(keras.layers.Conv2D(filters = 64, kernel_size = (3,3), padding = 'Same'))\n",
        "model.add(keras.layers.Activation(\"relu\"))\n",
        "\n",
        "#layer 4\n",
        "#convolution\n",
        "model.add(keras.layers.Conv2D(filters = 64, kernel_size = (3,3), padding = 'Same'))\n",
        "model.add(keras.layers.Activation(\"relu\"))\n",
        "#max pool\n",
        "model.add(keras.layers.MaxPool2D(pool_size=(2, 2)))\n",
        "\n",
        "\n",
        "#FC layer\n",
        "model.add(keras.layers.Flatten())\n",
        "model.add(keras.layers.Dense(256))\n",
        "model.add(keras.layers.Activation(\"relu\"))\n",
        "\n",
        "#output layer\n",
        "model.add(keras.layers.Dense(10, activation='softmax'))"
      ],
      "execution_count": 7,
      "outputs": []
    },
    {
      "cell_type": "code",
      "metadata": {
        "colab": {
          "base_uri": "https://localhost:8080/"
        },
        "id": "d6DAM_ck3E1z",
        "outputId": "2db0b90d-3e87-4e39-8352-7eccb0a691e3"
      },
      "source": [
        "model.summary()"
      ],
      "execution_count": 8,
      "outputs": [
        {
          "output_type": "stream",
          "name": "stdout",
          "text": [
            "Model: \"sequential\"\n",
            "_________________________________________________________________\n",
            "Layer (type)                 Output Shape              Param #   \n",
            "=================================================================\n",
            "conv2d (Conv2D)              (None, 28, 28, 32)        320       \n",
            "_________________________________________________________________\n",
            "activation (Activation)      (None, 28, 28, 32)        0         \n",
            "_________________________________________________________________\n",
            "conv2d_1 (Conv2D)            (None, 28, 28, 32)        9248      \n",
            "_________________________________________________________________\n",
            "activation_1 (Activation)    (None, 28, 28, 32)        0         \n",
            "_________________________________________________________________\n",
            "max_pooling2d (MaxPooling2D) (None, 14, 14, 32)        0         \n",
            "_________________________________________________________________\n",
            "conv2d_2 (Conv2D)            (None, 14, 14, 64)        18496     \n",
            "_________________________________________________________________\n",
            "activation_2 (Activation)    (None, 14, 14, 64)        0         \n",
            "_________________________________________________________________\n",
            "conv2d_3 (Conv2D)            (None, 14, 14, 64)        36928     \n",
            "_________________________________________________________________\n",
            "activation_3 (Activation)    (None, 14, 14, 64)        0         \n",
            "_________________________________________________________________\n",
            "max_pooling2d_1 (MaxPooling2 (None, 7, 7, 64)          0         \n",
            "_________________________________________________________________\n",
            "flatten (Flatten)            (None, 3136)              0         \n",
            "_________________________________________________________________\n",
            "dense (Dense)                (None, 256)               803072    \n",
            "_________________________________________________________________\n",
            "activation_4 (Activation)    (None, 256)               0         \n",
            "_________________________________________________________________\n",
            "dense_1 (Dense)              (None, 10)                2570      \n",
            "=================================================================\n",
            "Total params: 870,634\n",
            "Trainable params: 870,634\n",
            "Non-trainable params: 0\n",
            "_________________________________________________________________\n"
          ]
        }
      ]
    },
    {
      "cell_type": "markdown",
      "metadata": {
        "id": "Scim0aqI6-o-"
      },
      "source": [
        "Compiling model"
      ]
    },
    {
      "cell_type": "code",
      "metadata": {
        "id": "CM3aPW-q4FHm"
      },
      "source": [
        "model.compile(optimizer = 'adam', loss = \"categorical_crossentropy\", metrics=[\"accuracy\"])"
      ],
      "execution_count": 9,
      "outputs": []
    },
    {
      "cell_type": "markdown",
      "metadata": {
        "id": "WHQng8Nq671p"
      },
      "source": [
        "Data augmentation"
      ]
    },
    {
      "cell_type": "code",
      "metadata": {
        "id": "FrPgzioT67Zb"
      },
      "source": [
        "datagen = keras.preprocessing.image.ImageDataGenerator(rotation_range=0.1,\n",
        "                             horizontal_flip = True,\n",
        "                             zoom_range = 0.1, \n",
        "                             width_shift_range=0.2,\n",
        "                             height_shift_range=0.2,\n",
        "                             fill_mode='nearest')\n",
        "datagen.fit(X_train)"
      ],
      "execution_count": 10,
      "outputs": []
    },
    {
      "cell_type": "markdown",
      "metadata": {
        "id": "S9g1v3yn9Z-j"
      },
      "source": [
        "Fit model"
      ]
    },
    {
      "cell_type": "code",
      "metadata": {
        "colab": {
          "base_uri": "https://localhost:8080/"
        },
        "id": "NQGvqjvG9IzE",
        "outputId": "bedcf880-70a8-4769-bf3c-2aea6c94db26"
      },
      "source": [
        "history = model.fit(datagen.flow(x_train, y_train, batch_size=32),\n",
        "                    shuffle=True,\n",
        "                    epochs=32, \n",
        "                    validation_data = (x_val, y_val),\n",
        "                    verbose = 2, \n",
        "                    steps_per_epoch = x_train.shape[0] // 32)"
      ],
      "execution_count": 11,
      "outputs": [
        {
          "output_type": "stream",
          "name": "stdout",
          "text": [
            "Epoch 1/32\n",
            "1687/1687 - 57s - loss: 0.7833 - accuracy: 0.7250 - val_loss: 0.5580 - val_accuracy: 0.7867\n",
            "Epoch 2/32\n",
            "1687/1687 - 28s - loss: 0.5132 - accuracy: 0.8098 - val_loss: 0.4969 - val_accuracy: 0.8185\n",
            "Epoch 3/32\n",
            "1687/1687 - 28s - loss: 0.4488 - accuracy: 0.8324 - val_loss: 0.3715 - val_accuracy: 0.8580\n",
            "Epoch 4/32\n",
            "1687/1687 - 27s - loss: 0.4122 - accuracy: 0.8465 - val_loss: 0.3397 - val_accuracy: 0.8792\n",
            "Epoch 5/32\n",
            "1687/1687 - 27s - loss: 0.3909 - accuracy: 0.8541 - val_loss: 0.3442 - val_accuracy: 0.8737\n",
            "Epoch 6/32\n",
            "1687/1687 - 28s - loss: 0.3790 - accuracy: 0.8601 - val_loss: 0.3564 - val_accuracy: 0.8733\n",
            "Epoch 7/32\n",
            "1687/1687 - 27s - loss: 0.3639 - accuracy: 0.8657 - val_loss: 0.3133 - val_accuracy: 0.8857\n",
            "Epoch 8/32\n",
            "1687/1687 - 27s - loss: 0.3581 - accuracy: 0.8678 - val_loss: 0.3083 - val_accuracy: 0.8910\n",
            "Epoch 9/32\n",
            "1687/1687 - 28s - loss: 0.3466 - accuracy: 0.8720 - val_loss: 0.3060 - val_accuracy: 0.8852\n",
            "Epoch 10/32\n",
            "1687/1687 - 27s - loss: 0.3410 - accuracy: 0.8717 - val_loss: 0.3180 - val_accuracy: 0.8872\n",
            "Epoch 11/32\n",
            "1687/1687 - 28s - loss: 0.3373 - accuracy: 0.8739 - val_loss: 0.3017 - val_accuracy: 0.8907\n",
            "Epoch 12/32\n",
            "1687/1687 - 28s - loss: 0.3345 - accuracy: 0.8754 - val_loss: 0.2961 - val_accuracy: 0.8928\n",
            "Epoch 13/32\n",
            "1687/1687 - 27s - loss: 0.3295 - accuracy: 0.8794 - val_loss: 0.3128 - val_accuracy: 0.8878\n",
            "Epoch 14/32\n",
            "1687/1687 - 27s - loss: 0.3259 - accuracy: 0.8796 - val_loss: 0.3035 - val_accuracy: 0.8877\n",
            "Epoch 15/32\n",
            "1687/1687 - 27s - loss: 0.3315 - accuracy: 0.8781 - val_loss: 0.3262 - val_accuracy: 0.8833\n",
            "Epoch 16/32\n",
            "1687/1687 - 28s - loss: 0.3181 - accuracy: 0.8833 - val_loss: 0.3043 - val_accuracy: 0.8928\n",
            "Epoch 17/32\n",
            "1687/1687 - 28s - loss: 0.3204 - accuracy: 0.8812 - val_loss: 0.3090 - val_accuracy: 0.8907\n",
            "Epoch 18/32\n",
            "1687/1687 - 27s - loss: 0.3173 - accuracy: 0.8809 - val_loss: 0.3080 - val_accuracy: 0.8932\n",
            "Epoch 19/32\n",
            "1687/1687 - 28s - loss: 0.3153 - accuracy: 0.8840 - val_loss: 0.3106 - val_accuracy: 0.8935\n",
            "Epoch 20/32\n",
            "1687/1687 - 28s - loss: 0.3133 - accuracy: 0.8845 - val_loss: 0.2936 - val_accuracy: 0.8970\n",
            "Epoch 21/32\n",
            "1687/1687 - 27s - loss: 0.3133 - accuracy: 0.8834 - val_loss: 0.2621 - val_accuracy: 0.9080\n",
            "Epoch 22/32\n",
            "1687/1687 - 28s - loss: 0.3077 - accuracy: 0.8857 - val_loss: 0.2923 - val_accuracy: 0.8977\n",
            "Epoch 23/32\n",
            "1687/1687 - 27s - loss: 0.3106 - accuracy: 0.8856 - val_loss: 0.3020 - val_accuracy: 0.8918\n",
            "Epoch 24/32\n",
            "1687/1687 - 27s - loss: 0.3112 - accuracy: 0.8879 - val_loss: 0.2740 - val_accuracy: 0.8998\n",
            "Epoch 25/32\n",
            "1687/1687 - 28s - loss: 0.3074 - accuracy: 0.8866 - val_loss: 0.2809 - val_accuracy: 0.9000\n",
            "Epoch 26/32\n",
            "1687/1687 - 28s - loss: 0.3084 - accuracy: 0.8857 - val_loss: 0.3051 - val_accuracy: 0.8863\n",
            "Epoch 27/32\n",
            "1687/1687 - 28s - loss: 0.3064 - accuracy: 0.8859 - val_loss: 0.3024 - val_accuracy: 0.8965\n",
            "Epoch 28/32\n",
            "1687/1687 - 27s - loss: 0.3060 - accuracy: 0.8852 - val_loss: 0.3037 - val_accuracy: 0.8905\n",
            "Epoch 29/32\n",
            "1687/1687 - 28s - loss: 0.3044 - accuracy: 0.8875 - val_loss: 0.2942 - val_accuracy: 0.8955\n",
            "Epoch 30/32\n",
            "1687/1687 - 28s - loss: 0.3038 - accuracy: 0.8868 - val_loss: 0.2870 - val_accuracy: 0.8933\n",
            "Epoch 31/32\n",
            "1687/1687 - 27s - loss: 0.2999 - accuracy: 0.8889 - val_loss: 0.3172 - val_accuracy: 0.8920\n",
            "Epoch 32/32\n",
            "1687/1687 - 27s - loss: 0.3024 - accuracy: 0.8873 - val_loss: 0.2801 - val_accuracy: 0.8980\n"
          ]
        }
      ]
    },
    {
      "cell_type": "code",
      "metadata": {
        "colab": {
          "base_uri": "https://localhost:8080/",
          "height": 513
        },
        "id": "Wm-1whcR9bya",
        "outputId": "538b3945-e2a9-42f2-b184-fc87b04e11cc"
      },
      "source": [
        "acc = history.history['accuracy']\n",
        "val_acc = history.history['val_accuracy']\n",
        "\n",
        "loss = history.history['loss']\n",
        "val_loss = history.history['val_loss']\n",
        "\n",
        "plt.figure(figsize=(8, 8))\n",
        "plt.subplot(2, 1, 1)\n",
        "plt.plot(acc, label='Training Accuracy')\n",
        "plt.plot(val_acc, label='Validation Accuracy')\n",
        "plt.legend(loc='lower right')\n",
        "plt.ylabel('Accuracy')\n",
        "plt.ylim([0,1])\n",
        "plt.title('Training and Validation Accuracy')\n",
        "\n",
        "plt.subplot(2, 1, 2)\n",
        "plt.plot(loss, label='Training Loss')\n",
        "plt.plot(val_loss, label='Validation Loss')\n",
        "plt.legend(loc='upper right')\n",
        "plt.ylabel('Cross Entropy')\n",
        "plt.ylim([0,1.0])\n",
        "plt.title('Training and Validation Loss')\n",
        "plt.xlabel('epoch')\n",
        "plt.show()"
      ],
      "execution_count": 12,
      "outputs": [
        {
          "output_type": "display_data",
          "data": {
            "image/png": "[encoded data removed]",
            "text/plain": [
              "<Figure size 576x576 with 2 Axes>"
            ]
          },
          "metadata": {
            "needs_background": "light"
          }
        }
      ]
    },
    {
      "cell_type": "code",
      "metadata": {
        "colab": {
          "base_uri": "https://localhost:8080/"
        },
        "id": "-gfZLw6iGJhn",
        "outputId": "fc8668ca-c291-4071-cf1f-99deec27685b"
      },
      "source": [
        "print('Train accuracy: ',history.history['accuracy'][-1])\n",
        "print('Validation accuracy: ',history.history['val_accuracy'][-1])\n",
        "\n",
        "score = model.evaluate(X_test,Y_test,verbose=0)\n",
        "print(\"Test Loss:\",score[0])\n",
        "print(\"Test Accuracy:\",score[1])"
      ],
      "execution_count": 14,
      "outputs": [
        {
          "output_type": "stream",
          "name": "stdout",
          "text": [
            "Train accuracy:  0.8873035907745361\n",
            "Validation accuracy:  0.8980000019073486\n",
            "Test Loss: 0.30435997247695923\n",
            "Test Accuracy: 0.8910999894142151\n"
          ]
        }
      ]
    },
    {
      "cell_type": "code",
      "metadata": {
        "id": "HbeNLE3KR9yw"
      },
      "source": [
        ""
      ],
      "execution_count": null,
      "outputs": []
    }
  ]
}